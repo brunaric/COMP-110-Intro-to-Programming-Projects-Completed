{
 "cells": [
  {
   "cell_type": "markdown",
   "metadata": {},
   "source": [
    "# Analysis for Continuous Improvement\n",
    "\n",
    "Author Name: Bruna Ricciardi\n",
    "\n",
    "9-digit PID: 730466477\n",
    "\n",
    "Continuous Improvement embraces a belief there is _always room to make things better_. It is a mindset and process we value and practice in this course. In this assignment, you are able to practice continuous improvement and contribute to the design ideas of the course.\n",
    "\n",
    "## Brainstorming Ideas\n",
    "\n",
    "Reflect on your personal experiences and observations in COMP110 and **brainstorm modifications to the course that _create value_ beyond its current design**. When brainstorming, try not to be critical of the ideas you come up with regarding scale, stakeholders impacted, or for any other reasons. In the markdown cell below, brainstorm 3 to 5 ideas you think would create value for you.\n",
    "\n",
    "Each brainstormed idea should state a. the suggested change or addition, b. what the expected value created, and c. which specific stakeholders would benefit.  If helpful, expand on the following template \"The course should (state idea here) because it will (state value created here) for (insert stakeholders here).\"\n",
    "\n",
    "Example A: \"The course should use only examples from psychology experiments because it will be more relevant for students who are psychology majors.\"\n",
    "\n",
    "Example B: \"The course should not have post-lesson questions because they are not useful for most students in the class.\""
   ]
  },
  {
   "cell_type": "markdown",
   "metadata": {},
   "source": [
    "### Part 1. Creative Ideation\n",
    "\n",
    "1. This course should offer additional workshops for the students enrolled who intend to major or minor in Computer Science(BS/BA) in order to expose them to the field and give them extra challenges/things to work on in order to allow them to get there foot in the door as early as possible. \n",
    "2. This course should offer a lesson for the students enrolled about what it means to major/minor in Computer Science describing  what doors it could open as well as the difference between a BS and a BA. \n",
    "3. This course should be all synchronous, in order to allow the students enrolled to benefit from the opportunity to ask live questions and collaborate with other students enrolled in the class. \n",
    "4. This course should be taught in the same language COMP 210 is taught in because it will prepare the students enrolled who intend to major/minor in Computer Science to take COMP 210 and be succesful.\n",
    "5. This course should continue office hours 1:1 appointments because it is an efficient system that allows the students enrolled to connect with more experienced students and learn from them. However, they should enforce the 15 minute limit more strictly in order to meet the demand. "
   ]
  },
  {
   "cell_type": "markdown",
   "metadata": {},
   "source": []
  },
  {
   "cell_type": "markdown",
   "metadata": {},
   "source": [
    "## Connecting with Available Data\n",
    "\n",
    "The data you have available for this analysis is limited to the anonymized course survey you and your peers filled out a few weeks ago. The data is found in the `survey.csv` file in this exercise directory. Each row represents an individual survey response. Each column has a description which can be found on the project write-up here: <https://22s.comp110.com/exercises/ex08.html>\n",
    "\n",
    "Review the list of available data and identify which one of your ideas _does not_, or is _least likely to_, have relevant data to support the analysis of your idea to create value. In the box below, identify which of your ideas lacks data and suggest how we might be able to collect this data in the future. One aspect of _continuous improvement_ is trying to avoid \"tunnel vision\" where possible improvements are not considered because there is no data available to analyze it. Identifying new data sources can unlock improvements!"
   ]
  },
  {
   "cell_type": "markdown",
   "metadata": {},
   "source": [
    "### Part 2. Identifying Missing Data\n",
    "\n",
    "1. Idea without sufficient data to analyze: Lesson about majoring in computer science/explaining the difference between a BS and BA\n",
    "\n",
    "\n",
    "2. Suggestion for how to collect data to support this idea in the future: In a future survey(possibly an end of class survey or on the course evaluation form), ask if students are interested in a lesson about what it means to major in Computer Science to determine demand for the lesson. This lesson might even spark interest in people who just took COMP 110 to fulfill a general education course requirement. "
   ]
  },
  {
   "cell_type": "markdown",
   "metadata": {},
   "source": [
    "## Choosing an Idea to Analyze\n",
    "\n",
    "Consider those of your ideas which _do_ seem likely to have relevant data to analyze. If none of your ideas do, spend a few minutes and brainstorm another idea or two with the added connection of data available on hand and add those ideas to your brainstormed ideas list.\n",
    "\n",
    "Select the one idea which you believe is _most valuable_ to analyze relative to the others and has data to support the analysis of. In the markdown cell for Part 3 below, identify the idea you are exploring and articulate why you believe it is most valuable (e.g. widest impact, biggest opportunity for improvement, simplest change for significant improvement, and so on)."
   ]
  },
  {
   "cell_type": "markdown",
   "metadata": {},
   "source": [
    "### Part 3. Choosing Your Analysis\n",
    "\n",
    "1. Idea to analyze with available data:\n",
    "This course should be all synchronous, in order to allow the students enrolled to benefit from the opportunity to ask live questions and collaborate with other students enrolled in the class. \n",
    "\n",
    "2. This idea is more valuable than the others brainstormed because: This idea will give students an incentive to go to class, increasing participation and retention of information. From personal experience and the known experience of my peers, online class is easy to get distracted from. Often time students stare at the screen, nod their heads, and move on. By having all classes be synchronous, it opens the door for more engaging lectures of tuesdays. While the post video lesson questions help students pay attention, I believe just having the class be synchronous would be even more helpful. Having all synchronous classes, would allow us and our grades to benefit from available input and collaboration from our peers, TA's, and professor. \n"
   ]
  },
  {
   "cell_type": "markdown",
   "metadata": {},
   "source": [
    "## Your Analysis\n",
    "\n",
    "Before you begin analysis, a reminder that we do not expect the data to support everyone's ideas and you can complete this exercise for full credit even if the data does not clearly support your suggestion or even completely refutes it. What we are looking for is a logical attempt to explore the data using the techniques you have learned up until now in a way that _either_ supports, refutes, or does not have a clear result and then to reflect on your findings after the analysis.\n",
    "\n",
    "Using the utility functions you created for the previous exercise, you will continue with your analysis in the following part. Before you begin, refer to the rubric on the technical expectations of this section in the exercise write-up.\n",
    "\n",
    "In this section, you are expected to interleave code and markdown cells such that for each step of your analysis you are starting with an English description of what you are planning to do next in a markdown cell, followed by a Python cell that performs that step of the analysis."
   ]
  },
  {
   "cell_type": "markdown",
   "metadata": {},
   "source": [
    "### Part 4. Analysis\n",
    "\n",
    "We begin by changing some settings in the notebook to automatically reload changes to imported files."
   ]
  },
  {
   "cell_type": "code",
   "execution_count": 1,
   "metadata": {},
   "outputs": [],
   "source": [
    "%reload_ext autoreload\n",
    "%autoreload 2"
   ]
  },
  {
   "cell_type": "markdown",
   "metadata": {},
   "source": [
    "We continue by importing the helper functions from `data_utils`."
   ]
  },
  {
   "cell_type": "code",
   "execution_count": 2,
   "metadata": {},
   "outputs": [],
   "source": [
    "# TODO: You complete the code blocks from here forward!\n",
    "# The helper functions are imported at the top of the cell they are used in."
   ]
  },
  {
   "cell_type": "markdown",
   "metadata": {},
   "source": [
    "Next, ... (you take it from here and add additional code and markdown cells to read in the CSV file and process it as needed)"
   ]
  },
  {
   "cell_type": "markdown",
   "metadata": {},
   "source": [
    "### A Graph That Representing Supporting Data.\n",
    "\n",
    "        Using matplotlib, I made two bar charts to visually represent the responses give from lesson_time, which asked students enrolled if they do the Tuesday assignments during sychronous class times, and sync_perf which asked studetns enrolled who think their performance would improve if classes was all sychronous. \n",
    "\n",
    "        In order to get the data needed for the graph labeled \"Who Does Assignments During Sychronous Class Times\", I first convert the data gathered into a row table. From there, I can use the column_values function to return a list with all the values of the lesson_time responses from the survey. I then use the count function to return a dictionary showing how many times a value is present in the list made from column_values. \n",
    "\n",
    "        I can then use that final returned dictionary in matplotlib to create the chart. \n",
    "\n",
    "        I did the same thing with the data from sync_perf to make the graph labeled \"Synchronous Class Would Improve Their Performance\""
   ]
  },
  {
   "cell_type": "code",
   "execution_count": 3,
   "metadata": {},
   "outputs": [
    {
     "data": {
      "text/plain": [
       "<BarContainer object of 7 artists>"
      ]
     },
     "execution_count": 3,
     "metadata": {},
     "output_type": "execute_result"
    },
    {
     "data": {
      "image/png": "[encoded data removed]",
      "text/plain": [
       "<Figure size 864x360 with 2 Axes>"
      ]
     },
     "metadata": {
      "needs_background": "light"
     },
     "output_type": "display_data"
    }
   ],
   "source": [
    "from data_utils import count\n",
    "from data_utils import read_csv_rows\n",
    "from data_utils import column_values\n",
    "\n",
    "from matplotlib import pyplot as plt\n",
    "\n",
    "\n",
    "SURVEY_DATA_CSV_FILE_PATH: str = \"../../data/survey.csv\" \n",
    "data_rows: list[dict[str, str]] = read_csv_rows(SURVEY_DATA_CSV_FILE_PATH)\n",
    "lesson_time_data = column_values(data_rows, \"lesson_time\")\n",
    "count_lesson_time = count(lesson_time_data)\n",
    "sync_perf_data = column_values(data_rows, \"sync_perf\")\n",
    "count_sync_perf = count(sync_perf_data)\n",
    "\n",
    "fig, axes = plt.subplots(1, 2, figsize=(12, 5), sharey=True)\n",
    "fig.suptitle(\"Data to Support Switching to Sychronous Classes\")\n",
    "\n",
    "axes[0].set_title(\"Sychronous Class Would Improve Their Performace\")\n",
    "axes[0].bar(count_sync_perf.keys(), count_sync_perf.values())\n",
    "axes[0].tick_params(axis='x', labelrotation = 45)\n",
    "\n",
    "axes[1].set_title(\"Who Does Assignments During Synchronous Class Times\")\n",
    "axes[1].bar(count_lesson_time.keys(), count_lesson_time.values())\n",
    "\n"
   ]
  },
  {
   "cell_type": "markdown",
   "metadata": {},
   "source": [
    "### How Many People Already Do The Tuesday Classes During the Synchronous Class Time With an Agreement Level of 4 or Above?\n",
    "\n",
    "       In order to see how many people already do the Tuesday classes during the synchronous class times, I used  my own function, count_certain_values, to make a table where the keys are the response choices greater than 4 and the values are the amount of people who selected each value greater than four. \n",
    "\n",
    "        Finally, we can add all these values up to see that 291/620 students enrolled in COMP 110 already do the Tuesday assignments during the synchronous class time. "
   ]
  },
  {
   "cell_type": "code",
   "execution_count": 4,
   "metadata": {},
   "outputs": [
    {
     "name": "stdout",
     "output_type": "stream",
     "text": [
      "620 total responses.\n",
      "Number of responses levels of agreement 4-7: {'6': 59, '4': 64, '5': 93, '7': 75}\n",
      "Out of 620 responses, 291 people said with a 4 or more agreement level on a scale from 1-7 that they already do the work assigned on Tuesdays during the alloted class time anyways. \n"
     ]
    }
   ],
   "source": [
    "\n",
    "from data_utils import count_certain_values\n",
    "print(f\"{len(lesson_time_data)} total responses.\")\n",
    "\n",
    "lesson_time_data = column_values(data_rows, \"lesson_time\")\n",
    "lesson_time_certain_responses = count_certain_values(lesson_time_data)\n",
    "number_of_responses: int = 291 \n",
    "print(f\"Number of responses levels of agreement 4-7: {lesson_time_certain_responses}\")\n",
    "\n",
    "print(f\"Out of 620 responses, {number_of_responses} people said with a 4 or more agreement level on a scale from 1-7 that they already do the work assigned on Tuesdays during the alloted class time anyways. \")\n",
    "\n",
    "\n",
    "\n",
    "\n",
    "\n",
    "\n",
    "\n",
    "\n",
    "\n",
    "\n",
    "\n",
    "\n"
   ]
  },
  {
   "cell_type": "markdown",
   "metadata": {},
   "source": [
    "### How Many People Think That Their Performance Would Increase If Class Was All Synchronous With an Agreement Level of 4 or Above?\n",
    "        In order to find out how many people think that their performance would increase if class was all synchronous I took the same steps as the cell above. I used  my own function, count_certain_values, to make a table where the keys are the response choices greater than 4 and the values are the amount of people who selected each value greater than four. \n",
    "\n",
    "        Finally, we can add all these values up to see that 223/620 students enrolled in COMP 110 believe all synchronous classes would improve their performance in the course. "
   ]
  },
  {
   "cell_type": "code",
   "execution_count": 5,
   "metadata": {},
   "outputs": [
    {
     "name": "stdout",
     "output_type": "stream",
     "text": [
      "620 total responses.\n",
      "Number of responses levels of agreement 4-7: {'5': 42, '4': 101, '6': 29, '7': 51}\n",
      "Out of 620 responses, 223 people said they think their performance in the class would increase if class was all synchronous with atleast a 4 on the agreement scale of 1-7.\n"
     ]
    }
   ],
   "source": [
    "\n",
    "sync_perf_data = column_values(data_rows, \"sync_perf\")\n",
    "print(f\"{len(sync_perf_data)} total responses.\")\n",
    "\n",
    "print(f\"Number of responses levels of agreement 4-7: {count_certain_values(sync_perf_data)}\")\n",
    "sync_perf_data_count = count_certain_values(sync_perf_data)\n",
    "number_of_responses_1 = 223\n",
    "print(f\"Out of {len(sync_perf_data)} responses, {number_of_responses_1} people said they think their performance in the class would increase if class was all synchronous with atleast a 4 on the agreement scale of 1-7.\")"
   ]
  },
  {
   "cell_type": "markdown",
   "metadata": {},
   "source": [
    "### How Many People Think The Tuesday Lesson Videos Are Effective?\n",
    "        To show this, I first converted the data into a dictionary of columns. From there, I was able to use the select function on the resulting dictionary and only pull out the values of the certain column that I wanted: `ls_effective`. \n",
    "\n",
    "        Then, I used the head function to only return the first 50 responses given to `ls_effective`. This way we can get a sense of the trend of the data without looking at all the hundreds of responses."
   ]
  },
  {
   "cell_type": "code",
   "execution_count": 6,
   "metadata": {},
   "outputs": [
    {
     "name": "stdout",
     "output_type": "stream",
     "text": [
      "{'ls_effective': ['7', '5', '5', '6', '6', '7', '7', '7', '7', '7', '7', '6', '4', '7', '6', '6', '7', '4', '6', '7', '5', '6', '7', '7', '1', '7', '7', '6', '7', '5', '6', '5', '6', '7', '7', '6', '6', '6', '7', '5', '7', '7', '7', '6', '5', '6', '6', '5', '3', '6']}\n",
      "Just from the first 50 responses to the question 'Do you think the lesson videos are effective?', it is shown that the large majority of students enrolled believe the lesson videos are effective just the way they are as most of these responses are agreement level 5 or higher. Because of the overwhelming majority, it is safe to assume that the rest of the responses follow this trend.\n"
     ]
    }
   ],
   "source": [
    "from data_utils import columnar\n",
    "from data_utils import head\n",
    "from data_utils import select\n",
    "\n",
    "\n",
    "data_cols: dict[str, list[str]] = columnar(data_rows)\n",
    "select_data = select(data_cols, [\"ls_effective\"])\n",
    "print(head(select_data, 50))\n",
    "\n",
    "print(\"Just from the first 50 responses to the question 'Do you think the lesson videos are effective?', it is shown that the large majority of students enrolled believe the lesson videos are effective just the way they are as most of these responses are agreement level 5 or higher. Because of the overwhelming majority, it is safe to assume that the rest of the responses follow this trend.\")\n",
    "\n"
   ]
  },
  {
   "cell_type": "markdown",
   "metadata": {},
   "source": [
    "## Conclusion\n",
    "\n",
    "In the following markdown cell, write a reflective conclusion given the analysis you performed and identify recommendations.\n",
    "\n",
    "If your analysis of the data supports your idea, state your recommendation for the change and summarize the data analysys results you found which support it. Additionally, describe any extensions or refinements to this idea which might be explored further. Finally, discuss the potential costs, trade-offs, or stakeholders who may be negatively impacted by this proposed change.\n",
    "\n",
    "If your analysis of the data is inconclusive, summarize why your data analysis results were inconclusive in the support of your idea. Additionally, describe what experimental idea implementation or additional data collection might help build more confidence in assessing your idea. Finally, discuss the potential costs, trade-offs, or stakeholders who may be negatively impacted by experimenting with your idea.\n",
    "\n",
    "Finally, if your analysis of the data does not support it, summarize your data analysis results and why it refutes your idea. Discuss the potential costs, trade-offs, or stakeholders who may be negatively impacted by this proposed change. If you disagree with the validity of the findings, describe why your idea still makes sense to implement and what alternative data would better support it. If you agree with the validity of the data analysis, describe what alternate ideas or extensions you would explore instead. "
   ]
  },
  {
   "cell_type": "markdown",
   "metadata": {},
   "source": [
    "### Part 5. Conclusion\n",
    "\n",
    "    The data analyzed in the cells above do not support my idea of making all classes in this course synchronous. I analyzed the data in three parts. \n",
    "    \n",
    "    First, I created two graphs: one showing the students' enrolled responses to if they completed the lecture’s lessons during the hours of the day registered for the course (the synchronous time) and another graph showing their responses to if they believe having all synchronous classes would improve their performance in the class. Just from that graph, you can already tell that most students said they do not do the lesson assignment during the synchronous times. From the graph, it can also be seen that most students also did not believe all synchronous classes would improve their performance in this course. \n",
    "\n",
    "    Second, to further analyze the graph and responses to the two questions mentioned, I made my own function, `count_certain_values` that showed the amount of people that responded with a 4, 5, 6, and 7.  4, to me, was the minimum level of agreement that could be taken into consideration for my data because it meant people leaned more towards agree than disagree. When I used `count_certain_values` on both lesson_time and sync_perf, it is seen that less than half of the responses were at an agreement level of 4 or higher. This meant most people did not do the video lessons at the same time as a sychronous class would be and most people did not agree that having all synchronous classes would improve their performance. If the majority of people did do the video lessons at the synchronous class time, I would've been able to argue that they would not have a problem coming to class at that time and prefer the structure of having a certain time to do things. But unfortunately, that is not the case according to the data. \n",
    "\n",
    "    Third, I used the head, columnar, and select functions to be able to see the first 50 responses to ls_effective which asked if students enrolled thought the video lessons were effective. The overwhelming majority of the first 50 responses to this question were at a level of agreement of 4 or above. Because of the overwhelming majority of 4's or higher shown from just the first 50 responses, it was safe to assume the rest of the responses would also look like that. Therefore, this piece of data also did not support my idea. If people think the lesson videos are effective the way they are, why take them away and transition to synchronous tuesday classes? That would just end up being potentially less effective for the class as a whole. \n",
    "\n",
    "    After looking at all the data I analyzed, I realize now that it may harm us more than help us as a class to switch to all synchronous classes. Most people clearly enjoy and thrive in the way COMP 110 is set up currently. In my opinion, it would not be right to risk the success of the majority for the success of the minority. I understand why most people would want the class to stay set up in the way that it is. By having one asynchronous class day and one synchronous class day, it allows the students enrolled to have the best of both worlds. They are given flexibity to do the Tuesday lesson and assignment on their own time and pause when they need to in order to take in the information better or just take a needed break. However, theya are also given the opportunity to be in class, ask questions, and collaborate. As a busy college student myself, I see the validity in this and therefore, the validity of my findings. An alternate idea I would explore is the idea that COMP 110 should be taught in the same language COMP 210 is taught in because it will prepare the students enrolled who intend to major/minor in Computer Science to take COMP 210 and be succesful. I could use similar methods to see how many of the students enrolled in COMP 110 intend to major/minor in Computer Science and go from there. I think it would really benefit us, especially the beginners who want to major in Computer Science without having prior experience before COMP 110. \n",
    "\n",
    "\n"
   ]
  }
 ],
 "metadata": {
  "interpreter": {
   "hash": "aee8b7b246df8f9039afb4144a1f6fd8d2ca17a180786b69acc140d282b71a49"
  },
  "kernelspec": {
   "display_name": "Python 3.10.2 64-bit",
   "language": "python",
   "name": "python3"
  },
  "language_info": {
   "codemirror_mode": {
    "name": "ipython",
    "version": 3
   },
   "file_extension": ".py",
   "mimetype": "text/x-python",
   "name": "python",
   "nbconvert_exporter": "python",
   "pygments_lexer": "ipython3",
   "version": "3.10.1"
  },
  "orig_nbformat": 4
 },
 "nbformat": 4,
 "nbformat_minor": 2
}
